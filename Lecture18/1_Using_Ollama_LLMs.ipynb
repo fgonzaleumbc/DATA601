{
 "cells": [
  {
   "cell_type": "markdown",
   "id": "9849c944-4ec8-480b-9c5d-0c34df8fcc33",
   "metadata": {},
   "source": [
    "<div class=\"alert alert-block alert-info\">\n",
    "Author:<br>Felix Gonzalez, P.E. <br> Adjunct Instructor, <br> Division of Professional Studies <br> Computer Science and Electrical Engineering <br> University of Maryland Baltimore County <br> fgonzale@umbc.edu\n",
    "</div>"
   ]
  },
  {
   "cell_type": "markdown",
   "id": "ab2e0fd0-3b69-4094-ad01-fc0786f28850",
   "metadata": {
    "jp-MarkdownHeadingCollapsed": true
   },
   "source": [
    "# Table of Contents"
   ]
  },
  {
   "cell_type": "markdown",
   "id": "56545424-61fc-41e6-8581-4c768556ebed",
   "metadata": {},
   "source": [
    "# Ollama API and Python  \n",
    "\n",
    "This notebook will provide an example of running LLMs via Ollama API and Python as well as an example of using a custom datafram as input into an LLM model. \n",
    "\n",
    "### References and Inspirations:\n",
    "\n",
    "Throughout these LLM notebooks, besides the official documentation in the previous notebook, there are various online resources and tutorials that were used as inspiration to create the final example here presented. These resources are specified in its related respective section.\n",
    "\n",
    "References and Inspirations:\n",
    "- RAG Agent: https://dev.to/dmuraco3/how-to-create-a-local-rag-agent-with-ollama-and-langchain-1m9a\n",
    "- Local RAG Tutorial (Ollama): https://www.youtube.com/watch?v=Oe-7dGDyzPM&t=372s\n",
    "- Readability of Output: https://www.youtube.com/watch?v=T8emnz9uaf0&t=184s\n",
    "- RAG from the Ground Up with Python and Ollama: https://www.youtube.com/watch?v=V1Mz8gMBDMo&t"
   ]
  },
  {
   "cell_type": "markdown",
   "id": "df8e875d-da47-418b-b90f-8e4289c98459",
   "metadata": {
    "jp-MarkdownHeadingCollapsed": true
   },
   "source": [
    "### Ollama Documentation:\n",
    "- Ollama Documentation (https://github.com/ollama/ollama/blob/main/README.md): Note the Model Library table and each model computational requirements which may vary significantly. Approximately 1 GB of RAM and 0.8 GB in size for every billion parameters in the model.\n",
    "- Ollama Github Windows Documentation at: https://github.com/ollama/ollama/blob/main/docs/windows.md\n"
   ]
  },
  {
   "cell_type": "markdown",
   "id": "39ecd517-6fd2-4dd4-8e98-52ee2e69ada7",
   "metadata": {},
   "source": [
    "### Ollama API Parameters\n",
    "List of API Parameters can be found in the documentation at: https://github.com/ollama/ollama/blob/main/docs/api.md. There are two main APIs, the Generate and the Chat. The examples in this notebook utilize the Chat API and include the following parameters: (default: 5m)"
   ]
  },
  {
   "cell_type": "markdown",
   "id": "f37f1acb-bfed-4d44-aa26-e69e73d6bc31",
   "metadata": {
    "jp-MarkdownHeadingCollapsed": true
   },
   "source": [
    "#### Parameters for Chat API\n",
    "\n",
    "- model: (required) the model name\n",
    "- messages: the messages of the chat, this can be used to keep a chat memory\n",
    "- tools: list of tools in JSON for the model to use if supported\n",
    "\n",
    "The message object has the following fields:\n",
    "- role: the role of the message, either system, user, assistant, or tool\n",
    "- content: the content of the message\n",
    "- images (optional): a list of images to include in the message (for multimodal models such as llava)\n",
    "- tool_calls (optional): a list of tools in JSON that the model wants to use\n",
    "\n",
    "Advanced parameters (optional):\n",
    "- format: the format to return a response in. Format can be json or a JSON schema.\n",
    "- options: additional model parameters listed in the documentation for the Modelfile such as temperature\n",
    "- stream: if false the response will be returned as a single response object, rather than a stream of objects\n",
    "- keep_alive: controls how long the model will stay loaded into memory following the request (default: 5m)"
   ]
  },
  {
   "cell_type": "markdown",
   "id": "0e9a3e2c-bd26-4b99-9e61-a8e71f368c5b",
   "metadata": {},
   "source": [
    "# Python Data Library Loading"
   ]
  },
  {
   "cell_type": "code",
   "execution_count": 1,
   "id": "c860a193-3faf-4fcf-a8cd-56367ca5e731",
   "metadata": {},
   "outputs": [],
   "source": [
    "import requests\n",
    "import json\n",
    "\n",
    "import pandas as pd\n",
    "\n",
    "from IPython.display import clear_output, Markdown, display"
   ]
  },
  {
   "cell_type": "markdown",
   "id": "237062af-51d9-4689-8997-e5d420d89600",
   "metadata": {},
   "source": [
    "# LLM Locally Via Ollama API Requests\n",
    "\n",
    "Note that before running this notebook you will need to load the Ollama application. "
   ]
  },
  {
   "cell_type": "code",
   "execution_count": 2,
   "id": "1d94467e-e700-4cc8-b2e9-c1a39f60fbdf",
   "metadata": {},
   "outputs": [],
   "source": [
    "# Model to use:\n",
    "model_selection = \"mistral\" # \"mistral\" and \"llama3.2\" are the two options"
   ]
  },
  {
   "cell_type": "code",
   "execution_count": 3,
   "id": "a404fdd1-1e5b-4dbc-ba31-8877f64e632a",
   "metadata": {},
   "outputs": [],
   "source": [
    "# Setup the base URL for Locall Ollama API\n",
    "url = \"http://127.0.0.1:11434/api/chat\""
   ]
  },
  {
   "cell_type": "code",
   "execution_count": 4,
   "id": "5e7d823e-b007-4332-8331-7e4c8927aeb3",
   "metadata": {},
   "outputs": [],
   "source": [
    "def ollama_api_request(prompt):\n",
    "    # Send the HTTP POST request with streaming enabled.\n",
    "    payload = {\"model\" : model_selection, # Model we will be using.\n",
    "               \"messages\" : [{\"role\":\"user\", \"content\":prompt}]}\n",
    "    response = requests.post(url, json = payload, stream = True)\n",
    "\n",
    "    if response.status_code == 200:\n",
    "        print(\"Streaming response from Ollama:\")\n",
    "        for line in response .iter_lines(decode_unicode = True):\n",
    "            if line: # Ignore empty lines\n",
    "                try:\n",
    "                    # Parse each line as a JSON Object\n",
    "                    json_data = json.loads(line)\n",
    "                    # Extract and print the assistant's message content\n",
    "                    if \"message\" in json_data and \"content\" in json_data[\"message\"]:\n",
    "                        print(json_data[\"message\"][\"content\"], end = \"\")\n",
    "                except json.JSONDecodeError:\n",
    "                    print(f\"\\nFailed to parse line: {line}\")\n",
    "        print() # Ensure the final output ends with a new line.\n",
    "    else:\n",
    "        print(f\"Error querying Ollama API: {response.status_code}\")"
   ]
  },
  {
   "cell_type": "code",
   "execution_count": 5,
   "id": "d8912559-73c3-430f-a79e-f777db00f4a0",
   "metadata": {},
   "outputs": [
    {
     "name": "stdin",
     "output_type": "stream",
     "text": [
      "How can I assist you? (Type 'Goodbye' or 'Exit' to quit) Describe what is Python in three sentences.\n"
     ]
    },
    {
     "name": "stdout",
     "output_type": "stream",
     "text": [
      "Streaming response from Ollama:\n",
      "1. Python is a high-level, interpreted programming language known for its readability and simplicity, making it an excellent choice for beginners as well as seasoned developers.\n",
      "\n",
      "2. It offers dynamic typing and garbage collection, which means you don't have to declare the data type of a variable before using it, and Python automatically manages memory that is no longer in use.\n",
      "\n",
      "3. Python has extensive libraries and frameworks for various applications such as web development (Django, Flask), data analysis (Pandas, NumPy), machine learning (Scikit-learn, TensorFlow) and artificial intelligence, making it a versatile tool in the field of programming.\n",
      "\n"
     ]
    },
    {
     "name": "stdin",
     "output_type": "stream",
     "text": [
      "How can I assist you? (Type 'Goodbye' or 'Exit' to quit) Exit\n"
     ]
    },
    {
     "name": "stdout",
     "output_type": "stream",
     "text": [
      "Streaming response from Ollama:\n",
      " Goodbye! If you have any more questions or need assistance in the future, feel free to ask. Have a great day!\n",
      "Goodbye!\n"
     ]
    }
   ],
   "source": [
    "while True: # Loop to continue chatting with Ollama Model.\n",
    "    user_input = input(\"How can I assist you? (Type 'Goodbye', 'Bye', or 'Exit' to quit)\")\n",
    "    ollama_api_request(user_input)\n",
    "    if user_input.lower() == \"exit\" or user_input.lower() == 'goodbye' or user_input.lower() == 'bye': # Exits program.\n",
    "        print(\"Goodbye!\")\n",
    "        break\n",
    "    else:\n",
    "        print(\"\")\n",
    "\n",
    "# Sample Prompts:\n",
    "# Describe what is Python in three sentences.\n",
    "# What is a Python snake?\n",
    "# Tell me about the Python snake animal.\n",
    "# What date is it today?\n",
    "# How can I setup a LLM so that it can provide me the date and time?"
   ]
  },
  {
   "cell_type": "markdown",
   "id": "94032c82-e641-4200-9242-d55765353a2c",
   "metadata": {},
   "source": [
    "Ollama should have provided a response above."
   ]
  },
  {
   "cell_type": "markdown",
   "id": "4c8ac3d9-c3c9-4543-aa3b-fb0d2c44e657",
   "metadata": {},
   "source": [
    "# Using LLM with Custom Data\n",
    "\n",
    "One of the main allures of LLMs is using the generative AI capabilities and the ability to ask questions related to datasets that were not using as part of the training. This potentially opens the door for significant efficiency improvements in analytical processes that were previously unseen. This section provides some example datasets and example prompts to evaluate how the model responds.\n",
    "\n",
    "Note there are various methods to integrate a LLM with a custom dataset."
   ]
  },
  {
   "cell_type": "markdown",
   "id": "13257573-052c-4e1f-98b2-6130b97af000",
   "metadata": {},
   "source": [
    "### Ollama API: Modified Query Function with Data Input\n",
    "\n",
    "In the code script below, we will add the dataframe as an input parameter into the API request function."
   ]
  },
  {
   "cell_type": "code",
   "execution_count": 6,
   "id": "55aec97a-1999-419a-9cb5-55de9120a09e",
   "metadata": {},
   "outputs": [],
   "source": [
    "def ollama_api_request_wdata(prompt, input_data_df):\n",
    "    global response \n",
    "    \n",
    "    df_json = input_data_df.to_json() # Convert DataFrame to JSON\n",
    "    prompt_content = f'Given this data {df_json}' + ' ' + prompt # Combines data with prompt\n",
    "    \n",
    "    # Send the HTTP POST request with streaming enabled.  \n",
    "    payload = {\"model\" : model_selection, # Model we will be using.\n",
    "               \"messages\" : [{\"role\":\"user\", \n",
    "                              \"content\":prompt_content}]}\n",
    "    response = requests.post(url, json = payload, stream = True)\n",
    "\n",
    "    if response.status_code == 200:\n",
    "        # Checks that response is in x-ndjson (Newline-Delimited JSON)\n",
    "        if response.headers.get(\"Content-Type\") == \"application/x-ndjson\":\n",
    "            print(\"Streaming response from Ollama:\")\n",
    "            for line in response.iter_lines(decode_unicode = True):\n",
    "                if line: # Ignore empty lines\n",
    "                    try:\n",
    "                        # Parse each line as a JSON Object\n",
    "                        json_data = json.loads(line)\n",
    "                        # Extract and print the assistant's message content\n",
    "                        if \"message\" in json_data and \"content\" in json_data[\"message\"]:\n",
    "                            print(json_data[\"message\"][\"content\"], end = \"\")\n",
    "                    except json.JSONDecodeError:\n",
    "                        print(f\"\\nFailed to parse line: {line}\")\n",
    "            print() # Ensure the final output ends with a new line.\n",
    "    else:\n",
    "        print(f\"Error querying Ollama API: {response.status_code}\")"
   ]
  },
  {
   "cell_type": "markdown",
   "id": "f796bd43-6b6a-4c91-858f-13e4c4026ffd",
   "metadata": {},
   "source": [
    "### Chat Function\n",
    "\n",
    "The chat functions starts an instance for making calls into the Ollama API and clears the output of the cell when a new question is asked. This provides a more dynamic interaction between the model and the user in the Jupyter Notebook environment and could easily be moved to a dashboard."
   ]
  },
  {
   "cell_type": "code",
   "execution_count": 7,
   "id": "8da5d167-d7b1-4f3f-821d-0a714be248c4",
   "metadata": {},
   "outputs": [],
   "source": [
    "def chat_function(input_data_df):\n",
    "    while True: # Loop to continue chatting with Ollama Model.\n",
    "        user_input = input(\"How can I assist you? (Type 'Goodbye', 'Bye' or 'Exit' to quit)\")\n",
    "        if user_input.lower() == \"exit\" or user_input.lower() == 'goodbye 'or user_input.lower() == 'bye': # Exits program.\n",
    "            print(\"Goodbye!\")\n",
    "            break\n",
    "        else:\n",
    "            ollama_api_request_wdata(prompt = user_input, input_data_df = input_data_df)\n",
    "            print(\"\")\n",
    "            user_input = input(\"Do you have another question? (Type Yes, or 'Goodbye', 'Bye' or 'Exit' to quit)\")\n",
    "            if user_input.lower() == \"exit\" or user_input.lower() == 'goodbye' or user_input.lower() == 'bye':\n",
    "                clear_output(wait=True)\n",
    "                print(\"Goodbye!\")\n",
    "                break\n",
    "            else:\n",
    "                clear_output(wait=True)\n",
    "                continue"
   ]
  },
  {
   "cell_type": "markdown",
   "id": "065418eb-5138-4f73-8dde-a27d7d83d370",
   "metadata": {},
   "source": [
    "# Example 1: Names Data Dictionary\n",
    "\n",
    "This dataset includes names, age, occupation and hobbies of the different people. The dataset has various features integrated in order to test  questions with focus on analysis of the data. From various occupations at very different levels which can be used to have the model evaluate which occupation is more important, patterns, and misspellings to test how the model reacts.  "
   ]
  },
  {
   "cell_type": "code",
   "execution_count": 8,
   "id": "a0a1e6fd-6432-4379-bbfa-d36d2f4a9e21",
   "metadata": {},
   "outputs": [],
   "source": [
    "# Example DataFrame\n",
    "data = {'Name': ['Alice', 'Bob', 'John', 'Mary', 'Jackie', 'Camila'], \n",
    "        'Age': [25, 30, 45, 60, 45, 21], \n",
    "        'Occupation': ['Engineer', 'Doctor', 'Engineer', 'Mechanic', 'Doctor', 'CEO'],\n",
    "        'Hobby': ['Sailing', 'Basketball', 'Sailing', 'Cycling', 'Biking', 'Sailin']} \n",
    "df_names = pd.DataFrame(data)\n",
    "\n",
    "# Convert DataFrame to JSON\n",
    "df_json = df_names.to_json()"
   ]
  },
  {
   "cell_type": "markdown",
   "id": "5af2fc14-e00a-44cc-8050-480c4b58c880",
   "metadata": {},
   "source": [
    "#### Data Processing and Ollama Query Functions"
   ]
  },
  {
   "cell_type": "markdown",
   "id": "c46dad96-35de-4ae7-8f67-059fd2fde1f8",
   "metadata": {},
   "source": [
    "The Ollama model itself doesn’t natively accept pandas DataFrames as direct input for processing or questioning. One option is to convert the dataframe into text-based structure (like a JSON string, plain text table, or other formats) that Ollama can interpret. Other options traditionally used with LLMs include Retrieval Augmented Generation (RAG).  \n",
    "\n",
    "For this example, we will explore model performance and accuracy by converting submitting a dataset in JSON format and use it as input into the prompt to ask our questions. Using the previous function, the request to the Ollama API might look like this:"
   ]
  },
  {
   "cell_type": "code",
   "execution_count": 9,
   "id": "930fefd4-b740-4bc1-ae9d-443ee267fd12",
   "metadata": {},
   "outputs": [
    {
     "name": "stdout",
     "output_type": "stream",
     "text": [
      "Streaming response from Ollama:\n",
      " This data contains 6 unique individuals with diverse ages, occupations, and hobbies. Interestingly, both Alice and John have the same occupation as Engineers, and they also share a common hobby - Sailing. Additionally, two people, Alice (age 25) and Camila (age 21), are relatively young compared to Bob (age 30), John (age 45), Mary (age 60), and Jackie (age 45).\n"
     ]
    }
   ],
   "source": [
    "# Prompt with processed data\n",
    "ollama_api_request(f\"Given this data {df_json}. Tell me something interesting about this data?\")"
   ]
  },
  {
   "cell_type": "code",
   "execution_count": 10,
   "id": "d1a0d63f-ca81-4e9c-aad0-349f744d9a8a",
   "metadata": {},
   "outputs": [
    {
     "name": "stdin",
     "output_type": "stream",
     "text": [
      "How can I assist you? (Type 'Goodbye' or 'Exit' to quit) Exit\n"
     ]
    },
    {
     "name": "stdout",
     "output_type": "stream",
     "text": [
      "Goodbye!\n"
     ]
    }
   ],
   "source": [
    "chat_function(input_data_df = df_names)\n",
    "\n",
    "# Sample interesting prompts:\n",
    "# Tell me 3 interesting facts about this data.\n",
    "# What can you infer from this data?\n",
    "# Who has the most important occupation?\n",
    "# Which person has the most beneficial occupation to humanity?\n",
    "# Which employees are doctors?\n",
    "# Who is the youngest employee?\n",
    "# Calculate the average age of the employees.\n",
    "# Does it make sense that the youngest employee is a CEO?"
   ]
  },
  {
   "cell_type": "markdown",
   "id": "5fad02a1-f666-4c26-aa19-12f2df5c3206",
   "metadata": {},
   "source": [
    "# Example 2: Movie Data"
   ]
  },
  {
   "cell_type": "code",
   "execution_count": 40,
   "id": "1dd99c4e-7453-4c98-8ca0-f582a74d30dc",
   "metadata": {},
   "outputs": [],
   "source": [
    "# LOADING CSV FILE\n",
    "# Na_values may need to be reviewed as some datasets may include an accronym.\n",
    "# For example, 'NA' may be an abbreviation for 'North America'.\n",
    "# Release_cy will not be parsed as a date.\n",
    "df_movies = pd.read_csv('./input_data/df_data_clean_movies_db.csv', \n",
    "                        encoding = \"utf-8-sig\",\n",
    "                        parse_dates=['release_date', 'release_cy_quarter', 'release_cy_month'],\n",
    "                        date_format = '%Y-%m-%d') "
   ]
  },
  {
   "cell_type": "code",
   "execution_count": 41,
   "id": "3a21bb26-bd62-4ecc-918f-911a1af27e51",
   "metadata": {},
   "outputs": [
    {
     "data": {
      "text/html": [
       "<div>\n",
       "<style scoped>\n",
       "    .dataframe tbody tr th:only-of-type {\n",
       "        vertical-align: middle;\n",
       "    }\n",
       "\n",
       "    .dataframe tbody tr th {\n",
       "        vertical-align: top;\n",
       "    }\n",
       "\n",
       "    .dataframe thead th {\n",
       "        text-align: right;\n",
       "    }\n",
       "</style>\n",
       "<table border=\"1\" class=\"dataframe\">\n",
       "  <thead>\n",
       "    <tr style=\"text-align: right;\">\n",
       "      <th></th>\n",
       "      <th>budget</th>\n",
       "      <th>genres</th>\n",
       "      <th>id</th>\n",
       "      <th>original_language</th>\n",
       "      <th>original_title</th>\n",
       "      <th>overview</th>\n",
       "      <th>popularity</th>\n",
       "      <th>production_companies</th>\n",
       "      <th>production_countries</th>\n",
       "      <th>release_date</th>\n",
       "      <th>...</th>\n",
       "      <th>release_cy_month</th>\n",
       "      <th>box_office_earning</th>\n",
       "      <th>revenue_budget_ratio</th>\n",
       "      <th>title_char_count</th>\n",
       "      <th>overview_char_count</th>\n",
       "      <th>title_word_count</th>\n",
       "      <th>overview_word_count</th>\n",
       "      <th>original_title_overview</th>\n",
       "      <th>norm_text_lemma</th>\n",
       "      <th>norm_text_stem</th>\n",
       "    </tr>\n",
       "  </thead>\n",
       "  <tbody>\n",
       "    <tr>\n",
       "      <th>2117</th>\n",
       "      <td>22000000</td>\n",
       "      <td>[{\"id\": 35, \"name\": \"Comedy\"}, {\"id\": 80, \"nam...</td>\n",
       "      <td>10878</td>\n",
       "      <td>en</td>\n",
       "      <td>Saving Silverman</td>\n",
       "      <td>A pair of buddies conspire to save their best ...</td>\n",
       "      <td>12.887673</td>\n",
       "      <td>[{\"name\": \"Village Roadshow Pictures\", \"id\": 7...</td>\n",
       "      <td>[{\"iso_3166_1\": \"US\", \"name\": \"United States o...</td>\n",
       "      <td>2001-02-09</td>\n",
       "      <td>...</td>\n",
       "      <td>2001-02</td>\n",
       "      <td>41351569</td>\n",
       "      <td>0.879617</td>\n",
       "      <td>16</td>\n",
       "      <td>177</td>\n",
       "      <td>2</td>\n",
       "      <td>31</td>\n",
       "      <td>Saving Silverman: A pair of buddies conspire t...</td>\n",
       "      <td>save silverman pair buddy conspire save best f...</td>\n",
       "      <td>save silverman pair buddi conspir save best fr...</td>\n",
       "    </tr>\n",
       "    <tr>\n",
       "      <th>742</th>\n",
       "      <td>90000000</td>\n",
       "      <td>[{\"id\": 16, \"name\": \"Animation\"}, {\"id\": 35, \"...</td>\n",
       "      <td>863</td>\n",
       "      <td>en</td>\n",
       "      <td>Toy Story 2</td>\n",
       "      <td>Andy heads off to Cowboy Camp, leaving his toy...</td>\n",
       "      <td>73.575118</td>\n",
       "      <td>[{\"name\": \"Pixar Animation Studios\", \"id\": 3}]</td>\n",
       "      <td>[{\"iso_3166_1\": \"US\", \"name\": \"United States o...</td>\n",
       "      <td>1999-10-30</td>\n",
       "      <td>...</td>\n",
       "      <td>1999-10</td>\n",
       "      <td>587366869</td>\n",
       "      <td>5.526299</td>\n",
       "      <td>11</td>\n",
       "      <td>322</td>\n",
       "      <td>3</td>\n",
       "      <td>57</td>\n",
       "      <td>Toy Story 2: Andy heads off to Cowboy Camp, le...</td>\n",
       "      <td>toy story andy head cowboy camp leave toy devi...</td>\n",
       "      <td>toy stori andi head cowboy camp leav toy devic...</td>\n",
       "    </tr>\n",
       "    <tr>\n",
       "      <th>2780</th>\n",
       "      <td>5000000</td>\n",
       "      <td>[{\"id\": 27, \"name\": \"Horror\"}, {\"id\": 53, \"nam...</td>\n",
       "      <td>170</td>\n",
       "      <td>en</td>\n",
       "      <td>28 Days Later</td>\n",
       "      <td>Twenty-eight days after a killer virus was acc...</td>\n",
       "      <td>45.490374</td>\n",
       "      <td>[{\"name\": \"DNA Films\", \"id\": 284}, {\"name\": \"B...</td>\n",
       "      <td>[{\"iso_3166_1\": \"GB\", \"name\": \"United Kingdom\"}]</td>\n",
       "      <td>2002-10-31</td>\n",
       "      <td>...</td>\n",
       "      <td>2002-10</td>\n",
       "      <td>87719885</td>\n",
       "      <td>16.543977</td>\n",
       "      <td>13</td>\n",
       "      <td>342</td>\n",
       "      <td>3</td>\n",
       "      <td>53</td>\n",
       "      <td>28 Days Later: Twenty-eight days after a kille...</td>\n",
       "      <td>day later twenty eight day killer virus accide...</td>\n",
       "      <td>day later twenti eight day killer viru acciden...</td>\n",
       "    </tr>\n",
       "  </tbody>\n",
       "</table>\n",
       "<p>3 rows × 46 columns</p>\n",
       "</div>"
      ],
      "text/plain": [
       "        budget                                             genres     id  \\\n",
       "2117  22000000  [{\"id\": 35, \"name\": \"Comedy\"}, {\"id\": 80, \"nam...  10878   \n",
       "742   90000000  [{\"id\": 16, \"name\": \"Animation\"}, {\"id\": 35, \"...    863   \n",
       "2780   5000000  [{\"id\": 27, \"name\": \"Horror\"}, {\"id\": 53, \"nam...    170   \n",
       "\n",
       "     original_language    original_title  \\\n",
       "2117                en  Saving Silverman   \n",
       "742                 en       Toy Story 2   \n",
       "2780                en     28 Days Later   \n",
       "\n",
       "                                               overview  popularity  \\\n",
       "2117  A pair of buddies conspire to save their best ...   12.887673   \n",
       "742   Andy heads off to Cowboy Camp, leaving his toy...   73.575118   \n",
       "2780  Twenty-eight days after a killer virus was acc...   45.490374   \n",
       "\n",
       "                                   production_companies  \\\n",
       "2117  [{\"name\": \"Village Roadshow Pictures\", \"id\": 7...   \n",
       "742      [{\"name\": \"Pixar Animation Studios\", \"id\": 3}]   \n",
       "2780  [{\"name\": \"DNA Films\", \"id\": 284}, {\"name\": \"B...   \n",
       "\n",
       "                                   production_countries release_date  ...  \\\n",
       "2117  [{\"iso_3166_1\": \"US\", \"name\": \"United States o...   2001-02-09  ...   \n",
       "742   [{\"iso_3166_1\": \"US\", \"name\": \"United States o...   1999-10-30  ...   \n",
       "2780   [{\"iso_3166_1\": \"GB\", \"name\": \"United Kingdom\"}]   2002-10-31  ...   \n",
       "\n",
       "      release_cy_month  box_office_earning revenue_budget_ratio  \\\n",
       "2117           2001-02            41351569             0.879617   \n",
       "742            1999-10           587366869             5.526299   \n",
       "2780           2002-10            87719885            16.543977   \n",
       "\n",
       "      title_char_count  overview_char_count  title_word_count  \\\n",
       "2117                16                  177                 2   \n",
       "742                 11                  322                 3   \n",
       "2780                13                  342                 3   \n",
       "\n",
       "      overview_word_count                            original_title_overview  \\\n",
       "2117                   31  Saving Silverman: A pair of buddies conspire t...   \n",
       "742                    57  Toy Story 2: Andy heads off to Cowboy Camp, le...   \n",
       "2780                   53  28 Days Later: Twenty-eight days after a kille...   \n",
       "\n",
       "                                        norm_text_lemma  \\\n",
       "2117  save silverman pair buddy conspire save best f...   \n",
       "742   toy story andy head cowboy camp leave toy devi...   \n",
       "2780  day later twenty eight day killer virus accide...   \n",
       "\n",
       "                                         norm_text_stem  \n",
       "2117  save silverman pair buddi conspir save best fr...  \n",
       "742   toy stori andi head cowboy camp leav toy devic...  \n",
       "2780  day later twenti eight day killer viru acciden...  \n",
       "\n",
       "[3 rows x 46 columns]"
      ]
     },
     "execution_count": 41,
     "metadata": {},
     "output_type": "execute_result"
    }
   ],
   "source": [
    "df_movies.sample(3) # Check sampling of the data records."
   ]
  },
  {
   "cell_type": "code",
   "execution_count": 42,
   "id": "906ee1c5-08bd-4bca-af16-2b2e48bb76f7",
   "metadata": {},
   "outputs": [
    {
     "name": "stdout",
     "output_type": "stream",
     "text": [
      "<class 'pandas.core.frame.DataFrame'>\n",
      "RangeIndex: 3225 entries, 0 to 3224\n",
      "Data columns (total 46 columns):\n",
      " #   Column                   Non-Null Count  Dtype         \n",
      "---  ------                   --------------  -----         \n",
      " 0   budget                   3225 non-null   int64         \n",
      " 1   genres                   3225 non-null   object        \n",
      " 2   id                       3225 non-null   int64         \n",
      " 3   original_language        3225 non-null   object        \n",
      " 4   original_title           3225 non-null   object        \n",
      " 5   overview                 3225 non-null   object        \n",
      " 6   popularity               3225 non-null   float64       \n",
      " 7   production_companies     3225 non-null   object        \n",
      " 8   production_countries     3225 non-null   object        \n",
      " 9   release_date             3225 non-null   datetime64[ns]\n",
      " 10  revenue                  3225 non-null   int64         \n",
      " 11  runtime                  3225 non-null   int64         \n",
      " 12  spoken_languages         3225 non-null   object        \n",
      " 13  vote_average             3225 non-null   float64       \n",
      " 14  vote_count               3225 non-null   int64         \n",
      " 15  Action                   3225 non-null   int64         \n",
      " 16  Adventure                3225 non-null   int64         \n",
      " 17  Animation                3225 non-null   int64         \n",
      " 18  Comedy                   3225 non-null   int64         \n",
      " 19  Crime                    3225 non-null   int64         \n",
      " 20  Documentary              3225 non-null   int64         \n",
      " 21  Drama                    3225 non-null   int64         \n",
      " 22  Family                   3225 non-null   int64         \n",
      " 23  Fantasy                  3225 non-null   int64         \n",
      " 24  Foreign                  3225 non-null   int64         \n",
      " 25  History                  3225 non-null   int64         \n",
      " 26  Horror                   3225 non-null   int64         \n",
      " 27  Music                    3225 non-null   int64         \n",
      " 28  Mystery                  3225 non-null   int64         \n",
      " 29  Romance                  3225 non-null   int64         \n",
      " 30  Science Fiction          3225 non-null   int64         \n",
      " 31  Thriller                 3225 non-null   int64         \n",
      " 32  War                      3225 non-null   int64         \n",
      " 33  Western                  3225 non-null   int64         \n",
      " 34  release_cy               3225 non-null   int64         \n",
      " 35  release_cy_quarter       3225 non-null   object        \n",
      " 36  release_cy_month         3225 non-null   object        \n",
      " 37  box_office_earning       3225 non-null   int64         \n",
      " 38  revenue_budget_ratio     3225 non-null   float64       \n",
      " 39  title_char_count         3225 non-null   int64         \n",
      " 40  overview_char_count      3225 non-null   int64         \n",
      " 41  title_word_count         3225 non-null   int64         \n",
      " 42  overview_word_count      3225 non-null   int64         \n",
      " 43  original_title_overview  3225 non-null   object        \n",
      " 44  norm_text_lemma          3225 non-null   object        \n",
      " 45  norm_text_stem           3225 non-null   object        \n",
      "dtypes: datetime64[ns](1), float64(3), int64(30), object(12)\n",
      "memory usage: 1.1+ MB\n"
     ]
    }
   ],
   "source": [
    "#df_movies.info() # Check how the data loaded."
   ]
  },
  {
   "cell_type": "code",
   "execution_count": 43,
   "id": "0d8c2aeb-7ac4-42ba-90c5-cbec172644aa",
   "metadata": {},
   "outputs": [
    {
     "name": "stdout",
     "output_type": "stream",
     "text": [
      "Goodbye!\n"
     ]
    }
   ],
   "source": [
    "chat_function(input_data_df = df_movies)\n",
    "\n",
    "# Sample interesting prompts:\n",
    "# Tell me 3 interesting facts about this data.\n",
    "# What can you infer from this data?\n",
    "# Calculate trends on the data.\n",
    "# What is the genre most represented?\n",
    "# How many movies are under the documentary genre column?\n",
    "# How many movies are under the documentary genre column? Provide method for calculation.\n",
    "# How many movies are under the documentary genre column? Provide method for calculation in Python.\n",
    "# Calculate how many movies are under the documentary genre column using the Python value_counts function.\n",
    "# How many Harry Potter movies are in the dataset?"
   ]
  },
  {
   "cell_type": "code",
   "execution_count": 33,
   "id": "ebfced6d-52b6-42ca-be39-6e1cdef3fe58",
   "metadata": {},
   "outputs": [
    {
     "data": {
      "text/plain": [
       "Documentary\n",
       "0    3187\n",
       "1      38\n",
       "Name: count, dtype: int64"
      ]
     },
     "execution_count": 33,
     "metadata": {},
     "output_type": "execute_result"
    }
   ],
   "source": [
    "# Check\n",
    "df_movies['Documentary'].value_counts()"
   ]
  },
  {
   "cell_type": "code",
   "execution_count": 38,
   "id": "bb1cd332-0a4b-4b4f-946f-f3a66be10884",
   "metadata": {},
   "outputs": [
    {
     "data": {
      "text/html": [
       "<div>\n",
       "<style scoped>\n",
       "    .dataframe tbody tr th:only-of-type {\n",
       "        vertical-align: middle;\n",
       "    }\n",
       "\n",
       "    .dataframe tbody tr th {\n",
       "        vertical-align: top;\n",
       "    }\n",
       "\n",
       "    .dataframe thead th {\n",
       "        text-align: right;\n",
       "    }\n",
       "</style>\n",
       "<table border=\"1\" class=\"dataframe\">\n",
       "  <thead>\n",
       "    <tr style=\"text-align: right;\">\n",
       "      <th></th>\n",
       "      <th>budget</th>\n",
       "      <th>genres</th>\n",
       "      <th>id</th>\n",
       "      <th>original_language</th>\n",
       "      <th>original_title</th>\n",
       "      <th>overview</th>\n",
       "      <th>popularity</th>\n",
       "      <th>production_companies</th>\n",
       "      <th>production_countries</th>\n",
       "      <th>release_date</th>\n",
       "      <th>...</th>\n",
       "      <th>release_cy_month</th>\n",
       "      <th>box_office_earning</th>\n",
       "      <th>revenue_budget_ratio</th>\n",
       "      <th>title_char_count</th>\n",
       "      <th>overview_char_count</th>\n",
       "      <th>title_word_count</th>\n",
       "      <th>overview_word_count</th>\n",
       "      <th>original_title_overview</th>\n",
       "      <th>norm_text_lemma</th>\n",
       "      <th>norm_text_stem</th>\n",
       "    </tr>\n",
       "  </thead>\n",
       "  <tbody>\n",
       "    <tr>\n",
       "      <th>415</th>\n",
       "      <td>250000000</td>\n",
       "      <td>[{\"id\": 12, \"name\": \"Adventure\"}, {\"id\": 14, \"...</td>\n",
       "      <td>767</td>\n",
       "      <td>en</td>\n",
       "      <td>Harry Potter and the Half-Blood Prince</td>\n",
       "      <td>As Harry begins his sixth year at Hogwarts, he...</td>\n",
       "      <td>98.885637</td>\n",
       "      <td>[{\"name\": \"Warner Bros.\", \"id\": 6194}, {\"name\"...</td>\n",
       "      <td>[{\"iso_3166_1\": \"GB\", \"name\": \"United Kingdom\"...</td>\n",
       "      <td>2009-07-07</td>\n",
       "      <td>...</td>\n",
       "      <td>2009-07</td>\n",
       "      <td>1183959197</td>\n",
       "      <td>3.735837</td>\n",
       "      <td>38</td>\n",
       "      <td>174</td>\n",
       "      <td>6</td>\n",
       "      <td>30</td>\n",
       "      <td>Harry Potter and the Half-Blood Prince: As Har...</td>\n",
       "      <td>harry potter half blood prince harry begin six...</td>\n",
       "      <td>harri potter half blood princ harri begin sixt...</td>\n",
       "    </tr>\n",
       "    <tr>\n",
       "      <th>517</th>\n",
       "      <td>150000000</td>\n",
       "      <td>[{\"id\": 12, \"name\": \"Adventure\"}, {\"id\": 14, \"...</td>\n",
       "      <td>675</td>\n",
       "      <td>en</td>\n",
       "      <td>Harry Potter and the Order of the Phoenix</td>\n",
       "      <td>Returning for his fifth year of study at Hogwa...</td>\n",
       "      <td>78.144395</td>\n",
       "      <td>[{\"name\": \"Warner Bros.\", \"id\": 6194}, {\"name\"...</td>\n",
       "      <td>[{\"iso_3166_1\": \"GB\", \"name\": \"United Kingdom\"...</td>\n",
       "      <td>2007-06-28</td>\n",
       "      <td>...</td>\n",
       "      <td>2007-06</td>\n",
       "      <td>1088212738</td>\n",
       "      <td>6.254752</td>\n",
       "      <td>41</td>\n",
       "      <td>318</td>\n",
       "      <td>8</td>\n",
       "      <td>55</td>\n",
       "      <td>Harry Potter and the Order of the Phoenix: Ret...</td>\n",
       "      <td>harry potter order phoenix return fifth year s...</td>\n",
       "      <td>harri potter order phoenix return fifth year s...</td>\n",
       "    </tr>\n",
       "    <tr>\n",
       "      <th>518</th>\n",
       "      <td>150000000</td>\n",
       "      <td>[{\"id\": 12, \"name\": \"Adventure\"}, {\"id\": 14, \"...</td>\n",
       "      <td>674</td>\n",
       "      <td>en</td>\n",
       "      <td>Harry Potter and the Goblet of Fire</td>\n",
       "      <td>Harry starts his fourth year at Hogwarts, comp...</td>\n",
       "      <td>101.250416</td>\n",
       "      <td>[{\"name\": \"Patalex IV Productions Limited\", \"i...</td>\n",
       "      <td>[{\"iso_3166_1\": \"GB\", \"name\": \"United Kingdom\"...</td>\n",
       "      <td>2005-11-05</td>\n",
       "      <td>...</td>\n",
       "      <td>2005-11</td>\n",
       "      <td>1045921036</td>\n",
       "      <td>5.972807</td>\n",
       "      <td>35</td>\n",
       "      <td>261</td>\n",
       "      <td>7</td>\n",
       "      <td>43</td>\n",
       "      <td>Harry Potter and the Goblet of Fire: Harry sta...</td>\n",
       "      <td>harry potter goblet fire harry start fourth ye...</td>\n",
       "      <td>harri potter goblet fire harri start fourth ye...</td>\n",
       "    </tr>\n",
       "    <tr>\n",
       "      <th>593</th>\n",
       "      <td>130000000</td>\n",
       "      <td>[{\"id\": 12, \"name\": \"Adventure\"}, {\"id\": 14, \"...</td>\n",
       "      <td>673</td>\n",
       "      <td>en</td>\n",
       "      <td>Harry Potter and the Prisoner of Azkaban</td>\n",
       "      <td>Harry, Ron and Hermione return to Hogwarts for...</td>\n",
       "      <td>79.679601</td>\n",
       "      <td>[{\"name\": \"1492 Pictures\", \"id\": 436}, {\"name\"...</td>\n",
       "      <td>[{\"iso_3166_1\": \"GB\", \"name\": \"United Kingdom\"...</td>\n",
       "      <td>2004-05-31</td>\n",
       "      <td>...</td>\n",
       "      <td>2004-05</td>\n",
       "      <td>919804554</td>\n",
       "      <td>6.075420</td>\n",
       "      <td>40</td>\n",
       "      <td>229</td>\n",
       "      <td>7</td>\n",
       "      <td>39</td>\n",
       "      <td>Harry Potter and the Prisoner of Azkaban: Harr...</td>\n",
       "      <td>harry potter prisoner azkaban harry ron hermio...</td>\n",
       "      <td>harri potter prison azkaban harri ron hermion ...</td>\n",
       "    </tr>\n",
       "    <tr>\n",
       "      <th>599</th>\n",
       "      <td>125000000</td>\n",
       "      <td>[{\"id\": 12, \"name\": \"Adventure\"}, {\"id\": 14, \"...</td>\n",
       "      <td>671</td>\n",
       "      <td>en</td>\n",
       "      <td>Harry Potter and the Philosopher's Stone</td>\n",
       "      <td>Harry Potter has lived under the stairs at his...</td>\n",
       "      <td>109.984351</td>\n",
       "      <td>[{\"name\": \"1492 Pictures\", \"id\": 436}, {\"name\"...</td>\n",
       "      <td>[{\"iso_3166_1\": \"GB\", \"name\": \"United Kingdom\"...</td>\n",
       "      <td>2001-11-16</td>\n",
       "      <td>...</td>\n",
       "      <td>2001-11</td>\n",
       "      <td>1101475550</td>\n",
       "      <td>7.811804</td>\n",
       "      <td>40</td>\n",
       "      <td>412</td>\n",
       "      <td>6</td>\n",
       "      <td>74</td>\n",
       "      <td>Harry Potter and the Philosopher's Stone: Harr...</td>\n",
       "      <td>harry potter philosopher stone harry potter li...</td>\n",
       "      <td>harri potter philosoph stone harri potter live...</td>\n",
       "    </tr>\n",
       "    <tr>\n",
       "      <th>677</th>\n",
       "      <td>100000000</td>\n",
       "      <td>[{\"id\": 12, \"name\": \"Adventure\"}, {\"id\": 14, \"...</td>\n",
       "      <td>672</td>\n",
       "      <td>en</td>\n",
       "      <td>Harry Potter and the Chamber of Secrets</td>\n",
       "      <td>Ignoring threats to his life, Harry returns to...</td>\n",
       "      <td>132.397737</td>\n",
       "      <td>[{\"name\": \"1492 Pictures\", \"id\": 436}, {\"name\"...</td>\n",
       "      <td>[{\"iso_3166_1\": \"DE\", \"name\": \"Germany\"}, {\"is...</td>\n",
       "      <td>2002-11-13</td>\n",
       "      <td>...</td>\n",
       "      <td>2002-11</td>\n",
       "      <td>976688482</td>\n",
       "      <td>8.766885</td>\n",
       "      <td>39</td>\n",
       "      <td>132</td>\n",
       "      <td>7</td>\n",
       "      <td>23</td>\n",
       "      <td>Harry Potter and the Chamber of Secrets: Ignor...</td>\n",
       "      <td>harry potter chamber secret ignore threat life...</td>\n",
       "      <td>harri potter chamber secret ignor threat life ...</td>\n",
       "    </tr>\n",
       "    <tr>\n",
       "      <th>2177</th>\n",
       "      <td>20000000</td>\n",
       "      <td>[{\"id\": 28, \"name\": \"Action\"}, {\"id\": 12, \"nam...</td>\n",
       "      <td>9760</td>\n",
       "      <td>en</td>\n",
       "      <td>Epic Movie</td>\n",
       "      <td>When Edward, Peter, Lucy and Susan each follow...</td>\n",
       "      <td>6.064638</td>\n",
       "      <td>[{\"name\": \"Twentieth Century Fox Film Corporat...</td>\n",
       "      <td>[{\"iso_3166_1\": \"US\", \"name\": \"United States o...</td>\n",
       "      <td>2007-01-25</td>\n",
       "      <td>...</td>\n",
       "      <td>2007-01</td>\n",
       "      <td>106865564</td>\n",
       "      <td>4.343278</td>\n",
       "      <td>10</td>\n",
       "      <td>400</td>\n",
       "      <td>2</td>\n",
       "      <td>67</td>\n",
       "      <td>Epic Movie: When Edward, Peter, Lucy and Susan...</td>\n",
       "      <td>epic movie edward peter lucy susan follow path...</td>\n",
       "      <td>epic movi edward peter luci susan follow path ...</td>\n",
       "    </tr>\n",
       "  </tbody>\n",
       "</table>\n",
       "<p>7 rows × 46 columns</p>\n",
       "</div>"
      ],
      "text/plain": [
       "         budget                                             genres    id  \\\n",
       "415   250000000  [{\"id\": 12, \"name\": \"Adventure\"}, {\"id\": 14, \"...   767   \n",
       "517   150000000  [{\"id\": 12, \"name\": \"Adventure\"}, {\"id\": 14, \"...   675   \n",
       "518   150000000  [{\"id\": 12, \"name\": \"Adventure\"}, {\"id\": 14, \"...   674   \n",
       "593   130000000  [{\"id\": 12, \"name\": \"Adventure\"}, {\"id\": 14, \"...   673   \n",
       "599   125000000  [{\"id\": 12, \"name\": \"Adventure\"}, {\"id\": 14, \"...   671   \n",
       "677   100000000  [{\"id\": 12, \"name\": \"Adventure\"}, {\"id\": 14, \"...   672   \n",
       "2177   20000000  [{\"id\": 28, \"name\": \"Action\"}, {\"id\": 12, \"nam...  9760   \n",
       "\n",
       "     original_language                             original_title  \\\n",
       "415                 en     Harry Potter and the Half-Blood Prince   \n",
       "517                 en  Harry Potter and the Order of the Phoenix   \n",
       "518                 en        Harry Potter and the Goblet of Fire   \n",
       "593                 en   Harry Potter and the Prisoner of Azkaban   \n",
       "599                 en   Harry Potter and the Philosopher's Stone   \n",
       "677                 en    Harry Potter and the Chamber of Secrets   \n",
       "2177                en                                 Epic Movie   \n",
       "\n",
       "                                               overview  popularity  \\\n",
       "415   As Harry begins his sixth year at Hogwarts, he...   98.885637   \n",
       "517   Returning for his fifth year of study at Hogwa...   78.144395   \n",
       "518   Harry starts his fourth year at Hogwarts, comp...  101.250416   \n",
       "593   Harry, Ron and Hermione return to Hogwarts for...   79.679601   \n",
       "599   Harry Potter has lived under the stairs at his...  109.984351   \n",
       "677   Ignoring threats to his life, Harry returns to...  132.397737   \n",
       "2177  When Edward, Peter, Lucy and Susan each follow...    6.064638   \n",
       "\n",
       "                                   production_companies  \\\n",
       "415   [{\"name\": \"Warner Bros.\", \"id\": 6194}, {\"name\"...   \n",
       "517   [{\"name\": \"Warner Bros.\", \"id\": 6194}, {\"name\"...   \n",
       "518   [{\"name\": \"Patalex IV Productions Limited\", \"i...   \n",
       "593   [{\"name\": \"1492 Pictures\", \"id\": 436}, {\"name\"...   \n",
       "599   [{\"name\": \"1492 Pictures\", \"id\": 436}, {\"name\"...   \n",
       "677   [{\"name\": \"1492 Pictures\", \"id\": 436}, {\"name\"...   \n",
       "2177  [{\"name\": \"Twentieth Century Fox Film Corporat...   \n",
       "\n",
       "                                   production_countries release_date  ...  \\\n",
       "415   [{\"iso_3166_1\": \"GB\", \"name\": \"United Kingdom\"...   2009-07-07  ...   \n",
       "517   [{\"iso_3166_1\": \"GB\", \"name\": \"United Kingdom\"...   2007-06-28  ...   \n",
       "518   [{\"iso_3166_1\": \"GB\", \"name\": \"United Kingdom\"...   2005-11-05  ...   \n",
       "593   [{\"iso_3166_1\": \"GB\", \"name\": \"United Kingdom\"...   2004-05-31  ...   \n",
       "599   [{\"iso_3166_1\": \"GB\", \"name\": \"United Kingdom\"...   2001-11-16  ...   \n",
       "677   [{\"iso_3166_1\": \"DE\", \"name\": \"Germany\"}, {\"is...   2002-11-13  ...   \n",
       "2177  [{\"iso_3166_1\": \"US\", \"name\": \"United States o...   2007-01-25  ...   \n",
       "\n",
       "      release_cy_month  box_office_earning revenue_budget_ratio  \\\n",
       "415            2009-07          1183959197             3.735837   \n",
       "517            2007-06          1088212738             6.254752   \n",
       "518            2005-11          1045921036             5.972807   \n",
       "593            2004-05           919804554             6.075420   \n",
       "599            2001-11          1101475550             7.811804   \n",
       "677            2002-11           976688482             8.766885   \n",
       "2177           2007-01           106865564             4.343278   \n",
       "\n",
       "      title_char_count  overview_char_count  title_word_count  \\\n",
       "415                 38                  174                 6   \n",
       "517                 41                  318                 8   \n",
       "518                 35                  261                 7   \n",
       "593                 40                  229                 7   \n",
       "599                 40                  412                 6   \n",
       "677                 39                  132                 7   \n",
       "2177                10                  400                 2   \n",
       "\n",
       "      overview_word_count                            original_title_overview  \\\n",
       "415                    30  Harry Potter and the Half-Blood Prince: As Har...   \n",
       "517                    55  Harry Potter and the Order of the Phoenix: Ret...   \n",
       "518                    43  Harry Potter and the Goblet of Fire: Harry sta...   \n",
       "593                    39  Harry Potter and the Prisoner of Azkaban: Harr...   \n",
       "599                    74  Harry Potter and the Philosopher's Stone: Harr...   \n",
       "677                    23  Harry Potter and the Chamber of Secrets: Ignor...   \n",
       "2177                   67  Epic Movie: When Edward, Peter, Lucy and Susan...   \n",
       "\n",
       "                                        norm_text_lemma  \\\n",
       "415   harry potter half blood prince harry begin six...   \n",
       "517   harry potter order phoenix return fifth year s...   \n",
       "518   harry potter goblet fire harry start fourth ye...   \n",
       "593   harry potter prisoner azkaban harry ron hermio...   \n",
       "599   harry potter philosopher stone harry potter li...   \n",
       "677   harry potter chamber secret ignore threat life...   \n",
       "2177  epic movie edward peter lucy susan follow path...   \n",
       "\n",
       "                                         norm_text_stem  \n",
       "415   harri potter half blood princ harri begin sixt...  \n",
       "517   harri potter order phoenix return fifth year s...  \n",
       "518   harri potter goblet fire harri start fourth ye...  \n",
       "593   harri potter prison azkaban harri ron hermion ...  \n",
       "599   harri potter philosoph stone harri potter live...  \n",
       "677   harri potter chamber secret ignor threat life ...  \n",
       "2177  epic movi edward peter luci susan follow path ...  \n",
       "\n",
       "[7 rows x 46 columns]"
      ]
     },
     "execution_count": 38,
     "metadata": {},
     "output_type": "execute_result"
    }
   ],
   "source": [
    "df_movies[df_movies['original_title_overview'].str.contains('Harry Potter')]"
   ]
  },
  {
   "cell_type": "markdown",
   "id": "2d65319e-3a15-48ec-9339-076c49febd79",
   "metadata": {},
   "source": [
    "### Filtered Movie Dataset: Adventure Genre"
   ]
  },
  {
   "cell_type": "code",
   "execution_count": 81,
   "id": "87c519c2-e1ed-41e5-aaa7-4c6b11b888a8",
   "metadata": {},
   "outputs": [
    {
     "data": {
      "text/html": [
       "<div>\n",
       "<style scoped>\n",
       "    .dataframe tbody tr th:only-of-type {\n",
       "        vertical-align: middle;\n",
       "    }\n",
       "\n",
       "    .dataframe tbody tr th {\n",
       "        vertical-align: top;\n",
       "    }\n",
       "\n",
       "    .dataframe thead th {\n",
       "        text-align: right;\n",
       "    }\n",
       "</style>\n",
       "<table border=\"1\" class=\"dataframe\">\n",
       "  <thead>\n",
       "    <tr style=\"text-align: right;\">\n",
       "      <th></th>\n",
       "      <th>index</th>\n",
       "      <th>budget</th>\n",
       "      <th>genres</th>\n",
       "      <th>id</th>\n",
       "      <th>original_language</th>\n",
       "      <th>original_title</th>\n",
       "      <th>overview</th>\n",
       "      <th>popularity</th>\n",
       "      <th>production_companies</th>\n",
       "      <th>production_countries</th>\n",
       "      <th>...</th>\n",
       "      <th>release_cy_month</th>\n",
       "      <th>box_office_earning</th>\n",
       "      <th>revenue_budget_ratio</th>\n",
       "      <th>title_char_count</th>\n",
       "      <th>overview_char_count</th>\n",
       "      <th>title_word_count</th>\n",
       "      <th>overview_word_count</th>\n",
       "      <th>original_title_overview</th>\n",
       "      <th>norm_text_lemma</th>\n",
       "      <th>norm_text_stem</th>\n",
       "    </tr>\n",
       "  </thead>\n",
       "  <tbody>\n",
       "    <tr>\n",
       "      <th>550</th>\n",
       "      <td>1796</td>\n",
       "      <td>30000000</td>\n",
       "      <td>[{\"id\": 12, \"name\": \"Adventure\"}, {\"id\": 16, \"...</td>\n",
       "      <td>533</td>\n",
       "      <td>en</td>\n",
       "      <td>The Curse of the Were-Rabbit</td>\n",
       "      <td>Cheese-loving eccentric Wallace and his cunnin...</td>\n",
       "      <td>30.380747</td>\n",
       "      <td>[{\"name\": \"Aardman Animations\", \"id\": 297}, {\"...</td>\n",
       "      <td>[{\"iso_3166_1\": \"GB\", \"name\": \"United Kingdom\"...</td>\n",
       "      <td>...</td>\n",
       "      <td>2005-09</td>\n",
       "      <td>222452832</td>\n",
       "      <td>6.415094</td>\n",
       "      <td>28</td>\n",
       "      <td>443</td>\n",
       "      <td>5</td>\n",
       "      <td>69</td>\n",
       "      <td>The Curse of the Were-Rabbit: Cheese-loving ec...</td>\n",
       "      <td>curse rabbit cheese love eccentric wallace cun...</td>\n",
       "      <td>curs rabbit chees love eccentr wallac cun cani...</td>\n",
       "    </tr>\n",
       "    <tr>\n",
       "      <th>38</th>\n",
       "      <td>131</td>\n",
       "      <td>24000000</td>\n",
       "      <td>[{\"id\": 878, \"name\": \"Science Fiction\"}, {\"id\"...</td>\n",
       "      <td>168</td>\n",
       "      <td>en</td>\n",
       "      <td>Star Trek IV: The Voyage Home</td>\n",
       "      <td>Fugitives of the Federation for their daring r...</td>\n",
       "      <td>22.258428</td>\n",
       "      <td>[{\"name\": \"Paramount Pictures\", \"id\": 4}]</td>\n",
       "      <td>[{\"iso_3166_1\": \"US\", \"name\": \"United States o...</td>\n",
       "      <td>...</td>\n",
       "      <td>1986-11</td>\n",
       "      <td>157000000</td>\n",
       "      <td>5.541667</td>\n",
       "      <td>29</td>\n",
       "      <td>573</td>\n",
       "      <td>6</td>\n",
       "      <td>101</td>\n",
       "      <td>Star Trek IV: The Voyage Home: Fugitives of th...</td>\n",
       "      <td>star trek iv voyage home fugitive federation d...</td>\n",
       "      <td>star trek iv voyag home fugit feder dare rescu...</td>\n",
       "    </tr>\n",
       "    <tr>\n",
       "      <th>411</th>\n",
       "      <td>1066</td>\n",
       "      <td>58000000</td>\n",
       "      <td>[{\"id\": 12, \"name\": \"Adventure\"}, {\"id\": 28, \"...</td>\n",
       "      <td>710</td>\n",
       "      <td>en</td>\n",
       "      <td>GoldenEye</td>\n",
       "      <td>James Bond must unmask the mysterious head of ...</td>\n",
       "      <td>59.824565</td>\n",
       "      <td>[{\"name\": \"United Artists\", \"id\": 60}, {\"name\"...</td>\n",
       "      <td>[{\"iso_3166_1\": \"GB\", \"name\": \"United Kingdom\"...</td>\n",
       "      <td>...</td>\n",
       "      <td>1995-11</td>\n",
       "      <td>410194034</td>\n",
       "      <td>6.072311</td>\n",
       "      <td>9</td>\n",
       "      <td>175</td>\n",
       "      <td>1</td>\n",
       "      <td>27</td>\n",
       "      <td>GoldenEye: James Bond must unmask the mysterio...</td>\n",
       "      <td>goldeneye james bond must unmask mysterious he...</td>\n",
       "      <td>goldeney jame bond must unmask mysteri head ja...</td>\n",
       "    </tr>\n",
       "  </tbody>\n",
       "</table>\n",
       "<p>3 rows × 47 columns</p>\n",
       "</div>"
      ],
      "text/plain": [
       "     index    budget                                             genres   id  \\\n",
       "550   1796  30000000  [{\"id\": 12, \"name\": \"Adventure\"}, {\"id\": 16, \"...  533   \n",
       "38     131  24000000  [{\"id\": 878, \"name\": \"Science Fiction\"}, {\"id\"...  168   \n",
       "411   1066  58000000  [{\"id\": 12, \"name\": \"Adventure\"}, {\"id\": 28, \"...  710   \n",
       "\n",
       "    original_language                 original_title  \\\n",
       "550                en   The Curse of the Were-Rabbit   \n",
       "38                 en  Star Trek IV: The Voyage Home   \n",
       "411                en                      GoldenEye   \n",
       "\n",
       "                                              overview  popularity  \\\n",
       "550  Cheese-loving eccentric Wallace and his cunnin...   30.380747   \n",
       "38   Fugitives of the Federation for their daring r...   22.258428   \n",
       "411  James Bond must unmask the mysterious head of ...   59.824565   \n",
       "\n",
       "                                  production_companies  \\\n",
       "550  [{\"name\": \"Aardman Animations\", \"id\": 297}, {\"...   \n",
       "38           [{\"name\": \"Paramount Pictures\", \"id\": 4}]   \n",
       "411  [{\"name\": \"United Artists\", \"id\": 60}, {\"name\"...   \n",
       "\n",
       "                                  production_countries  ... release_cy_month  \\\n",
       "550  [{\"iso_3166_1\": \"GB\", \"name\": \"United Kingdom\"...  ...          2005-09   \n",
       "38   [{\"iso_3166_1\": \"US\", \"name\": \"United States o...  ...          1986-11   \n",
       "411  [{\"iso_3166_1\": \"GB\", \"name\": \"United Kingdom\"...  ...          1995-11   \n",
       "\n",
       "     box_office_earning  revenue_budget_ratio title_char_count  \\\n",
       "550           222452832              6.415094               28   \n",
       "38            157000000              5.541667               29   \n",
       "411           410194034              6.072311                9   \n",
       "\n",
       "     overview_char_count  title_word_count  overview_word_count  \\\n",
       "550                  443                 5                   69   \n",
       "38                   573                 6                  101   \n",
       "411                  175                 1                   27   \n",
       "\n",
       "                               original_title_overview  \\\n",
       "550  The Curse of the Were-Rabbit: Cheese-loving ec...   \n",
       "38   Star Trek IV: The Voyage Home: Fugitives of th...   \n",
       "411  GoldenEye: James Bond must unmask the mysterio...   \n",
       "\n",
       "                                       norm_text_lemma  \\\n",
       "550  curse rabbit cheese love eccentric wallace cun...   \n",
       "38   star trek iv voyage home fugitive federation d...   \n",
       "411  goldeneye james bond must unmask mysterious he...   \n",
       "\n",
       "                                        norm_text_stem  \n",
       "550  curs rabbit chees love eccentr wallac cun cani...  \n",
       "38   star trek iv voyag home fugit feder dare rescu...  \n",
       "411  goldeney jame bond must unmask mysteri head ja...  \n",
       "\n",
       "[3 rows x 47 columns]"
      ]
     },
     "execution_count": 81,
     "metadata": {},
     "output_type": "execute_result"
    }
   ],
   "source": [
    "# Say we want to filter \n",
    "df_movies_filtered = df_movies[df_movies['Adventure'] == 1].reset_index().copy()\n",
    "df_movies_filtered.sample(3)"
   ]
  },
  {
   "cell_type": "code",
   "execution_count": 82,
   "id": "6e4cc2ad-e761-4054-bc43-970c8e82bea6",
   "metadata": {},
   "outputs": [],
   "source": [
    "#df_movies_filtered.info()\n",
    "# 659 records under adventure genre."
   ]
  },
  {
   "cell_type": "code",
   "execution_count": 11,
   "id": "09139f11-ea6f-44f1-ab3c-308cdf1be329",
   "metadata": {},
   "outputs": [
    {
     "ename": "NameError",
     "evalue": "name 'df_movies_filtered' is not defined",
     "output_type": "error",
     "traceback": [
      "\u001b[1;31m---------------------------------------------------------------------------\u001b[0m",
      "\u001b[1;31mNameError\u001b[0m                                 Traceback (most recent call last)",
      "Cell \u001b[1;32mIn[11], line 1\u001b[0m\n\u001b[1;32m----> 1\u001b[0m chat_function(input_data_df \u001b[38;5;241m=\u001b[39m df_movies_filtered)\n",
      "\u001b[1;31mNameError\u001b[0m: name 'df_movies_filtered' is not defined"
     ]
    }
   ],
   "source": [
    "chat_function(input_data_df = df_movies_filtered)\n",
    "\n",
    "# Sample interesting prompts:\n",
    "# Tell me 3 interesting facts about this data.\n",
    "# What can you infer from this data?\n",
    "# Calculate trends on the data.\n",
    "# What is the genre most represented?\n",
    "# How many Harry Potter movies are in the dataset?\n",
    "# What is the most important film?"
   ]
  },
  {
   "cell_type": "markdown",
   "id": "de331038-8049-49f9-9609-08fde0be6ecb",
   "metadata": {},
   "source": [
    "### Filtered Movie Dataset: Contain Word Harry"
   ]
  },
  {
   "cell_type": "code",
   "execution_count": 53,
   "id": "1effd5f9-8b22-4e93-ab30-276656b60982",
   "metadata": {},
   "outputs": [
    {
     "data": {
      "text/plain": [
       "(7, 47)"
      ]
     },
     "execution_count": 53,
     "metadata": {},
     "output_type": "execute_result"
    }
   ],
   "source": [
    "df_movies_filtered = df_movies[df_movies['original_title_overview'].str.contains('Harry Potter')].reset_index().copy()\n",
    "df_movies_filtered.shape"
   ]
  },
  {
   "cell_type": "code",
   "execution_count": 54,
   "id": "bd285523-a3b2-4879-a145-2f2399b723c1",
   "metadata": {},
   "outputs": [
    {
     "name": "stdout",
     "output_type": "stream",
     "text": [
      "Goodbye!\n"
     ]
    }
   ],
   "source": [
    "chat_function(input_data_df = df_movies_filtered)"
   ]
  },
  {
   "cell_type": "markdown",
   "id": "8bff0918-c9e2-45a8-9908-fd26ecafa79c",
   "metadata": {},
   "source": [
    "# LLM Locally with Ollama Library and Client\n",
    "\n",
    "Note that before running this notebook you will need to load the Ollama application. Using the Ollama library allows calling various functiosn that simplify the code. Another benefit of the Ollama library is that the output can be extracted and shown in Markdown which improves readability."
   ]
  },
  {
   "cell_type": "code",
   "execution_count": 55,
   "id": "a3b9f59f-44fd-4c5b-9745-1662b7a6ee60",
   "metadata": {},
   "outputs": [],
   "source": [
    "# Import Ollama Library\n",
    "import ollama"
   ]
  },
  {
   "cell_type": "code",
   "execution_count": 56,
   "id": "2257f73c-84c8-400d-9499-203b2ce3d344",
   "metadata": {},
   "outputs": [
    {
     "name": "stdout",
     "output_type": "stream",
     "text": [
      "Python is a high-level, interpreted programming language that is widely used for various applications such as web development, data analysis, artificial intelligence, and more. Created in the late 1980s by Guido van Rossum, Python is known for its simplicity, readability, and flexibility, making it an ideal language for beginners and experienced programmers alike. Its vast number of libraries and frameworks, including NumPy, pandas, and Django, have made Python a popular choice among developers across industries.\n"
     ]
    }
   ],
   "source": [
    "# Initialize the Ollama model (Need to previously have model installed locally. See Notebook 0.)\n",
    "response = ollama.chat(model = model_selection, \n",
    "                       messages=[{'role': 'user',\n",
    "                                  'content': 'Describe what is Python in three sentences.'\n",
    "                                  }])\n",
    "\n",
    "print(response['message']['content'])\n",
    "\n",
    "# Sample Prompts:\n",
    "# Describe what is Python in three sentences.\n",
    "# What is a Python snake?\n",
    "# Tell me about the Python snake animal.\n",
    "# What date is it today?\n",
    "# How can I setup a LLM so that it can provide me the date and time?"
   ]
  },
  {
   "cell_type": "code",
   "execution_count": 58,
   "id": "07c8b49b-19bc-4a29-ba63-e3b44fd24de3",
   "metadata": {},
   "outputs": [
    {
     "data": {
      "text/markdown": [
       "**LLM Response (Streaming):**\n",
       "\n",
       "Python is a high-level, interpreted programming language that is widely used for various purposes such as web development, data analysis, artificial intelligence, and more. It is known for its simplicity, readability, and ease of use, making it an ideal choice for beginners and experienced programmers alike. Python's vast libraries and frameworks, such as NumPy and Django, provide a rich foundation for building efficient and scalable applications."
      ],
      "text/plain": [
       "<IPython.core.display.Markdown object>"
      ]
     },
     "metadata": {},
     "output_type": "display_data"
    }
   ],
   "source": [
    "prompt = 'Describe what is Python in three sentences.'\n",
    "\n",
    "response_stream = ollama.chat(model = model_selection,\n",
    "                              messages = [{'role': 'user',\n",
    "                                           'content': prompt}],\n",
    "                              stream = True\n",
    "                             )\n",
    "\n",
    "# Initialize an empty response string\n",
    "streamed_response = \"\"\n",
    "\n",
    "for token in response_stream:\n",
    "    # Append the current tokens to the response\n",
    "    streamed_response += token['message']['content']\n",
    "\n",
    "# Clear previous output and display the updated response\n",
    "    clear_output(wait = True)\n",
    "    display(Markdown(f\"**LLM Response (Streaming):**\\n\\n{streamed_response}\"))"
   ]
  },
  {
   "cell_type": "code",
   "execution_count": 64,
   "id": "f4a620b4-fa53-4d04-944c-7a6ee59d8c4c",
   "metadata": {},
   "outputs": [],
   "source": [
    "def ollama_lib_request(prompt):\n",
    "    response_stream = ollama.chat(model = model_selection,\n",
    "                                  messages = [{'role': 'user',\n",
    "                                               'content': prompt}],\n",
    "                                  stream = True)\n",
    "\n",
    "    # Initialize an empty response string\n",
    "    streamed_response = \"\"\n",
    "\n",
    "    for token in response_stream:\n",
    "        # Append the current tokens to the response\n",
    "        streamed_response += token['message']['content']\n",
    "\n",
    "    # Clear previous output and display the updated response\n",
    "        clear_output(wait = True)\n",
    "        display(Markdown(f\"**LLM Response (Streaming):**\\n\\n{streamed_response}\"))"
   ]
  },
  {
   "cell_type": "code",
   "execution_count": 66,
   "id": "7deeb690-246d-4b1d-a0a6-839a8715d738",
   "metadata": {},
   "outputs": [],
   "source": [
    "def ollama_lib_request_wdata(prompt, input_data_df):\n",
    "    df_json = input_data_df.to_json() # Convert DataFrame to JSON\n",
    "    prompt_content = f'Given this data {df_json}' + ' ' + prompt # Combines data with prompt\n",
    "\n",
    "    response_stream = ollama.chat(model = model_selection,\n",
    "                                  messages = [{'role': 'user',\n",
    "                                               'content': prompt_content}],\n",
    "                                  stream = True)\n",
    "\n",
    "    # Initialize an empty response string\n",
    "    streamed_response = \"\"\n",
    "\n",
    "    for token in response_stream:\n",
    "        # Append the current tokens to the response\n",
    "        streamed_response += token['message']['content']\n",
    "\n",
    "    # Clear previous output and display the updated response\n",
    "        clear_output(wait = True)\n",
    "        display(Markdown(f\"**LLM Response (Streaming):**\\n\\n{streamed_response}\"))"
   ]
  },
  {
   "cell_type": "code",
   "execution_count": 79,
   "id": "241fde50-abe1-4f87-ac43-d13103e941cd",
   "metadata": {},
   "outputs": [
    {
     "data": {
      "text/markdown": [
       "**LLM Response (Streaming):**\n",
       "\n",
       "A subjective question!\n",
       "\n",
       "To determine the most important film, I'll analyze the text data provided. After processing the data, I can tell you that:\n",
       "\n",
       "1. **The films have a common theme**: All six films are part of the \"Harry Potter\" franchise.\n",
       "2. **Each film has a distinct plot**: While there is some overlap, each film has its own unique storyline, characters, and setting.\n",
       "3. **The plots are interconnected**: The films build upon each other's storylines, with character arcs that span multiple movies.\n",
       "\n",
       "Given these points, I'll use a simple approach to determine which film might be considered the most important:\n",
       "\n",
       "1. **Which film is listed first?** (i.e., has the earliest publication date)\n",
       "2. **Which film has the longest narrative thread?**\n",
       "\n",
       "Based on this analysis:\n",
       "\n",
       "1. The first film in the series, \"Harry Potter and the Philosopher's Stone\" (published as \"Harry Potter and the Sorcerer's Stone\" in the United States), is listed first.\n",
       "2. The most complex and overarching plotline spans across multiple films, particularly \"Harry Potter and the Half-Blood Prince\".\n",
       "\n",
       "Considering these factors, I'd argue that **the most important film** might be:\n",
       "\n",
       "* **\"Harry Potter and the Goblet of Fire\"**, which marks a significant turning point in the series, introducing the Triwizard Tournament and cementing Voldemort's return to power.\n",
       "\n",
       "However, this is a subjective interpretation. Other fans might argue for \"Harry Potter and the Philosopher's Stone\", \"Harry Potter and the Half-Blood Prince\", or one of the other films, depending on their individual perspectives and priorities.\n",
       "\n",
       "What do you think? Do any of these conclusions resonate with you, or do you have another film in mind?"
      ],
      "text/plain": [
       "<IPython.core.display.Markdown object>"
      ]
     },
     "metadata": {},
     "output_type": "display_data"
    }
   ],
   "source": [
    "ollama_lib_request_wdata(input('How can I assist you?'), \n",
    "                         input_data_df = df_names)\n",
    "\n",
    "# Sample interesting prompts:\n",
    "# Tell me 3 interesting facts about this data.\n",
    "# What can you infer from this data?\n",
    "# Who has the most important occupation?\n",
    "# Which person has the most beneficial occupation to humanity?\n",
    "# Whcih employees are doctors?\n",
    "# Who is the youngest employee?\n",
    "# Calculate the average age of the employees.\n",
    "# Does it make sense that the youngest employee is a CEO?"
   ]
  },
  {
   "cell_type": "code",
   "execution_count": 86,
   "id": "0195ce49-a75a-4f95-92cf-4cec017f525f",
   "metadata": {},
   "outputs": [
    {
     "data": {
      "text/markdown": [
       "**LLM Response (Streaming):**\n",
       "\n",
       "After analyzing the provided dataset, I've identified some trends:\n",
       "\n",
       "1. **Topic distribution**: The dataset is extremely diverse, with topics ranging from action movies (e.g., \"Harold & Kumar Go to White Castle\") to sci-fi films (e.g., \"War Inc.\") to superhero movies (e.g., \"Beastmaster: Portal of Power\"). This suggests that the data may be representative of a wide range of interests or genres.\n",
       "2. **Genre representation**: Within the diverse topic distribution, some genres are overrepresented, such as:\n",
       "\t* Action/Adventure (21%): Movies like \"War Inc.\", \"Harold & Kumar Go to White Castle\", and \"Beastmaster: Portal of Power\".\n",
       "\t* Comedy (18%): Films like \"Super High Me\" and \"Six String Samurai\" (although not all comedy movies are included).\n",
       "3. **Franchise presence**: Several franchises are represented, including:\n",
       "\t* Godzilla/Kaiju (4%): \"Gojira ni sen mireniamu godzilla save tokyo fli saucer transform beast orga\".\n",
       "\t* Superman/Martian Manhunter (3%): Not explicitly stated but some movies like \"Super High Me\" contain characters from the DC Comics universe.\n",
       "4. **Country of origin**: The majority of movies are from the United States (80%), followed by Japan (8%) and other countries (12%).\n",
       "5. **Release year distribution**:\n",
       "\t* Most recent release years: 2000-2019 (40%)\n",
       "\t* Oldest release years: 1994-1999 (20%)\n",
       "6. **Movie length distribution**: Movies range from approximately 80 minutes (e.g., \"Super High Me\") to over 2 hours (e.g., \"War Inc.\").\n",
       "7. **Tone distribution**:\n",
       "\t* Most positive tone: Action/Adventure and Comedy genres tend to have more positive reviews and ratings.\n",
       "\t* Least positive tone: Sci-Fi/Fantasy and Horror movies often receive mixed or negative reviews.\n",
       "\n",
       "These trends are not exhaustive, but they provide a general idea of the diversity and characteristics within the dataset."
      ],
      "text/plain": [
       "<IPython.core.display.Markdown object>"
      ]
     },
     "metadata": {},
     "output_type": "display_data"
    }
   ],
   "source": [
    "ollama_lib_request_wdata(input('How can I assist you?'), \n",
    "                         input_data_df = df_movies_filtered)\n",
    "# Sample interesting prompts:\n",
    "# Tell me 3 interesting facts about this data.\n",
    "# Calculate trends on the data.\n",
    "# What can you infer from this data?\n",
    "# What is the most important film?"
   ]
  },
  {
   "cell_type": "markdown",
   "id": "04b40aee-546c-47c7-912b-bb7d83026f9f",
   "metadata": {},
   "source": [
    "# Concluding Remarks\n",
    "\n",
    "- The general questions related to providing interesting facts and infering from the data seem to perform very well and do provide pattern analysis results that seem to be accurate.\n",
    "- When questions start to be specific the model benefits from initial filtering before submitting the data and query.\n",
    "- The API vs. Library. Although it is not clear that there should be any differences between accessing the Ollama model via the Library vs. the API, the Library client seems to respond with more detail. "
   ]
  },
  {
   "cell_type": "markdown",
   "id": "ed6b1084-a500-47aa-91eb-a1e8fb8b2fe3",
   "metadata": {},
   "source": [
    "# Other Tips:\n",
    "\n",
    "Ollama can be used with Pandas and the .apply function to answer questions within a dataset. For exampe, if a dataframe had a question, the following code would create an \"Answer\" column from ollama_api_request function:\n",
    "\n",
    "- df['Answer'] = df['Question'].apply(ollama_api_request).110, Day 4: 50, Day 5: 115.'\""
   ]
  },
  {
   "cell_type": "markdown",
   "id": "f455cbcb-e429-444a-a0f2-d86b204be3b9",
   "metadata": {},
   "source": [
    "Other potential prompts to extract insights when submitting the data in as shown in the example above:\n",
    "- \"Summarize the key points from the data.\"\n",
    "- \"Summarize the following text using the same format as the submitted data: [insert text].\"\n",
    "- \"Identify the main trends in the data.\"\n",
    "- \"What can you tell me about the sentiment of data.\"\n",
    "- \"Classify the following text/data into categories.\"\n",
    "- \"Extract the relevant information from the data.\"\n",
    "- \"Explain the significance of the data.\"\n",
    "- \"Find the correlation between the following topics: [insert topcs].\"\n",
    "- \"Identify any anomalies in the data.\""
   ]
  },
  {
   "cell_type": "markdown",
   "id": "67552be5-6bcd-4e5c-9e54-048423fd144e",
   "metadata": {},
   "source": [
    "# NOTEBOOK END"
   ]
  },
  {
   "cell_type": "code",
   "execution_count": null,
   "id": "9e023599-a496-4f7c-9ae7-339a4c81fa30",
   "metadata": {},
   "outputs": [],
   "source": []
  },
  {
   "cell_type": "code",
   "execution_count": null,
   "id": "e5800672-8ee8-41c9-98b7-1ac62c2f2270",
   "metadata": {},
   "outputs": [],
   "source": []
  },
  {
   "cell_type": "code",
   "execution_count": null,
   "id": "33074786-27f7-40af-ae19-7e94f2909d5b",
   "metadata": {},
   "outputs": [],
   "source": []
  }
 ],
 "metadata": {
  "kernelspec": {
   "display_name": "Python 3 (ipykernel)",
   "language": "python",
   "name": "python3"
  },
  "language_info": {
   "codemirror_mode": {
    "name": "ipython",
    "version": 3
   },
   "file_extension": ".py",
   "mimetype": "text/x-python",
   "name": "python",
   "nbconvert_exporter": "python",
   "pygments_lexer": "ipython3",
   "version": "3.12.4"
  }
 },
 "nbformat": 4,
 "nbformat_minor": 5
}
